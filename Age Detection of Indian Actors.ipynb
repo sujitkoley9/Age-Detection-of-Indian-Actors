{
  "nbformat": 4,
  "nbformat_minor": 0,
  "metadata": {
    "colab": {
      "name": "Age Detection of Indian Actors.ipynb",
      "version": "0.3.2",
      "provenance": [],
      "collapsed_sections": [],
      "toc_visible": true
    },
    "kernelspec": {
      "name": "python3",
      "display_name": "Python 3"
    },
    "accelerator": "GPU"
  },
  "cells": [
    {
      "cell_type": "markdown",
      "metadata": {
        "id": "810F9Y63eipC",
        "colab_type": "text"
      },
      "source": [
        "**Age Detection of Indian Actors using tensorflow 2.0 and keras** "
      ]
    },
    {
      "cell_type": "markdown",
      "metadata": {
        "id": "e7eFJnVRg0sT",
        "colab_type": "text"
      },
      "source": [
        "# Importing important  libraries\n",
        "\n",
        "\n",
        "\n"
      ]
    },
    {
      "cell_type": "code",
      "metadata": {
        "id": "FlZ5kJOdaBrk",
        "colab_type": "code",
        "colab": {}
      },
      "source": [
        "import shutil, os\n",
        "import pandas as pd\n",
        "import matplotlib.pyplot as plt\n",
        "import numpy as np\n",
        "from tensorflow.keras.preprocessing import image\n",
        "import tensorflow as tf\n",
        "from tensorflow.keras import Sequential\n",
        "from tensorflow.keras.layers import Conv2D,Dropout\n",
        "from tensorflow.keras.layers import MaxPooling2D\n",
        "from tensorflow.keras.layers import Flatten\n",
        "from tensorflow.keras.layers import Dense\n",
        "from tensorflow.keras.preprocessing.image import ImageDataGenerator"
      ],
      "execution_count": 0,
      "outputs": []
    },
    {
      "cell_type": "markdown",
      "metadata": {
        "id": "RmgjvAILMVHg",
        "colab_type": "text"
      },
      "source": [
        "# Data preaparation"
      ]
    },
    {
      "cell_type": "code",
      "metadata": {
        "id": "w5KXFD8HMVxo",
        "colab_type": "code",
        "colab": {}
      },
      "source": [
        "\n",
        "\n",
        "#---- Reading file\n",
        "train_csv = pd.read_csv(\"train.csv\")\n",
        "train_csv[\"Class\"].unique()\n",
        "\n",
        "#--- Separating images in 3 classes\n",
        "\n",
        "for index, row in train_csv.iterrows():\n",
        "    print(row[\"ID\"] + row[\"Class\"])\n",
        "    shutil.copy2(\"Train/\"+row[\"ID\"],row[\"Class\"] )\n",
        "    \n",
        "for i in range(200):\n",
        "    \n",
        "\n",
        "\n",
        "#----preparing validation set    \n",
        "    \n",
        "for img in     os.listdir(\"MIDDLE\")[:200]:\n",
        "    shutil.copy2(\"MIDDLE/\"+img,\"validation_set/MIDDLE\" )\n",
        "    os.remove(\"MIDDLE/\"+img)\n",
        "    \n",
        "    \n",
        "for img in     os.listdir(\"YOUNG\")[:200]:\n",
        "    shutil.copy2(\"YOUNG/\"+img,\"validation_set/YOUNG\" )\n",
        "    os.remove(\"YOUNG/\"+img)\n",
        "\n",
        "\n",
        "for img in     os.listdir(\"OLD\")[:200]:\n",
        "    shutil.copy2(\"OLD/\"+img,\"validation_set/OLD\" )\n",
        "    os.remove(\"OLD/\"+img)\n",
        "    "
      ],
      "execution_count": 0,
      "outputs": []
    },
    {
      "cell_type": "markdown",
      "metadata": {
        "id": "FmmTQTMhjuCx",
        "colab_type": "text"
      },
      "source": [
        "# Steps of convolutional neural networks:\n",
        "\n",
        "**Convolution Operation ----> Pooling ------> Flattening -----> Full Connection**\n",
        "              "
      ]
    },
    {
      "cell_type": "markdown",
      "metadata": {
        "id": "EfukF2VCucS5",
        "colab_type": "text"
      },
      "source": [
        "![alt text](https://raw.githubusercontent.com/sujitkoley9/Image-Classification/master/CNN-1.jpg)\n",
        "\n",
        "\n",
        "![alt text](https://raw.githubusercontent.com/sujitkoley9/Image-Classification/master/CNN-2.png)"
      ]
    },
    {
      "cell_type": "markdown",
      "metadata": {
        "id": "3pBxtSEKhlbC",
        "colab_type": "text"
      },
      "source": [
        "**Step 1 - Convolution**\n",
        "\n"
      ]
    },
    {
      "cell_type": "code",
      "metadata": {
        "id": "9nIJkTAqh0YF",
        "colab_type": "code",
        "colab": {}
      },
      "source": [
        "classifier = Sequential()\n",
        "classifier.add(Conv2D(32, (3, 3), input_shape = (64, 64, 3), activation = 'relu'))\n",
        "# Dropout\n",
        "classifier.add(Dropout(0.25))"
      ],
      "execution_count": 0,
      "outputs": []
    },
    {
      "cell_type": "markdown",
      "metadata": {
        "id": "4m6gVLJ5h5aW",
        "colab_type": "text"
      },
      "source": [
        "**Step 2 - Pooling**"
      ]
    },
    {
      "cell_type": "markdown",
      "metadata": {
        "id": "v_jfpH_GtdiR",
        "colab_type": "text"
      },
      "source": [
        ""
      ]
    },
    {
      "cell_type": "code",
      "metadata": {
        "id": "kzoKEt9lh418",
        "colab_type": "code",
        "colab": {}
      },
      "source": [
        "classifier.add(MaxPooling2D(pool_size = (2, 2)))"
      ],
      "execution_count": 0,
      "outputs": []
    },
    {
      "cell_type": "markdown",
      "metadata": {
        "id": "oL7SNbGqil7U",
        "colab_type": "text"
      },
      "source": [
        "**Step 3 -Adding a second convolutional layer**"
      ]
    },
    {
      "cell_type": "code",
      "metadata": {
        "id": "utaFcIuPio6B",
        "colab_type": "code",
        "colab": {}
      },
      "source": [
        "classifier.add(Conv2D(32, (3, 3), activation = 'relu'))\n",
        "classifier.add(MaxPooling2D(pool_size = (2, 2)))\n",
        "# Dropout\n",
        "classifier.add(Dropout(0.25))"
      ],
      "execution_count": 0,
      "outputs": []
    },
    {
      "cell_type": "markdown",
      "metadata": {
        "id": "gbKeNzlli0Xd",
        "colab_type": "text"
      },
      "source": [
        "**Step 4 - Flattening**"
      ]
    },
    {
      "cell_type": "code",
      "metadata": {
        "id": "dcLtFoLli3tf",
        "colab_type": "code",
        "colab": {}
      },
      "source": [
        "classifier.add(Flatten())"
      ],
      "execution_count": 0,
      "outputs": []
    },
    {
      "cell_type": "markdown",
      "metadata": {
        "id": "C6xKSkFni6sv",
        "colab_type": "text"
      },
      "source": [
        "**Step 5 - Full connection**"
      ]
    },
    {
      "cell_type": "code",
      "metadata": {
        "id": "Urw7kiMyi95L",
        "colab_type": "code",
        "colab": {}
      },
      "source": [
        "classifier.add(Dense(256, activation = 'relu'))\n",
        "classifier.add(Dropout(0.5))\n",
        "classifier.add(Dense(3, activation = 'sigmoid'))"
      ],
      "execution_count": 0,
      "outputs": []
    },
    {
      "cell_type": "code",
      "metadata": {
        "id": "oTAn40x65RWw",
        "colab_type": "code",
        "colab": {
          "base_uri": "https://localhost:8080/",
          "height": 476
        },
        "outputId": "78b1eeae-9003-4a7a-b8bd-8e604d21b353"
      },
      "source": [
        "classifier.summary()"
      ],
      "execution_count": 14,
      "outputs": [
        {
          "output_type": "stream",
          "text": [
            "_________________________________________________________________\n",
            "Layer (type)                 Output Shape              Param #   \n",
            "=================================================================\n",
            "conv2d_2 (Conv2D)            (None, 62, 62, 32)        896       \n",
            "_________________________________________________________________\n",
            "dropout_1 (Dropout)          (None, 62, 62, 32)        0         \n",
            "_________________________________________________________________\n",
            "max_pooling2d (MaxPooling2D) (None, 31, 31, 32)        0         \n",
            "_________________________________________________________________\n",
            "conv2d_3 (Conv2D)            (None, 29, 29, 32)        9248      \n",
            "_________________________________________________________________\n",
            "max_pooling2d_1 (MaxPooling2 (None, 14, 14, 32)        0         \n",
            "_________________________________________________________________\n",
            "dropout_2 (Dropout)          (None, 14, 14, 32)        0         \n",
            "_________________________________________________________________\n",
            "flatten (Flatten)            (None, 6272)              0         \n",
            "_________________________________________________________________\n",
            "dense (Dense)                (None, 256)               1605888   \n",
            "_________________________________________________________________\n",
            "dropout_3 (Dropout)          (None, 256)               0         \n",
            "_________________________________________________________________\n",
            "dense_1 (Dense)              (None, 3)                 771       \n",
            "=================================================================\n",
            "Total params: 1,616,803\n",
            "Trainable params: 1,616,803\n",
            "Non-trainable params: 0\n",
            "_________________________________________________________________\n"
          ],
          "name": "stdout"
        }
      ]
    },
    {
      "cell_type": "markdown",
      "metadata": {
        "id": "NM0zaSWujHZq",
        "colab_type": "text"
      },
      "source": [
        "**Step 6 -Compiling the CNN**\n",
        "\n",
        "**Different type of optimizers are:**\n",
        "\n",
        "\n",
        "1.   sgd (stochastic gradient descent)\n",
        "2.   rmsprop (root mean square propagation) \n",
        "\n",
        "1.   Adams\n",
        "2.   Adagrad\n",
        "\n",
        "1.   Adadelta\n",
        "\n",
        "\n",
        "\n",
        "\n",
        "\n",
        "\n",
        "\n",
        "\n",
        "\n",
        "\n",
        "\n",
        "\n",
        "\n",
        "\n",
        "\n",
        "\n",
        "\n",
        "\n",
        "```\n",
        "\n"
      ]
    },
    {
      "cell_type": "code",
      "metadata": {
        "id": "70SW4IPOjGzR",
        "colab_type": "code",
        "colab": {}
      },
      "source": [
        "classifier.compile(optimizer = 'adam', loss = 'categorical_crossentropy', metrics = ['accuracy'])\n"
      ],
      "execution_count": 0,
      "outputs": []
    },
    {
      "cell_type": "markdown",
      "metadata": {
        "id": "4zbdARavIDL7",
        "colab_type": "text"
      },
      "source": [
        "**Step 7: Image augmentation**\n",
        "\n",
        "***Explanation:***\n",
        "batch_size=32 means  -- per step 32 images will be generated randomly\n"
      ]
    },
    {
      "cell_type": "code",
      "metadata": {
        "id": "MubBTGrxjcOw",
        "colab_type": "code",
        "outputId": "6b4a3077-4f08-4465-d140-9ff8249d0c6e",
        "colab": {
          "base_uri": "https://localhost:8080/",
          "height": 68
        }
      },
      "source": [
        "# Batch size\n",
        "batch_size=32\n",
        "\n",
        "# To handle image loading problem\n",
        "from PIL import Image, ImageFile\n",
        "ImageFile.LOAD_TRUNCATED_IMAGES = True\n",
        "\n",
        "\n",
        "train_datagen = ImageDataGenerator(rescale = 1./255,\n",
        "                                   shear_range = 0.2,\n",
        "                                   zoom_range = 0.2,\n",
        "                                   horizontal_flip = True)\n",
        "\n",
        "test_datagen = ImageDataGenerator(rescale = 1./255)\n",
        "\n",
        "training_set = train_datagen.flow_from_directory('dataset/training_set',\n",
        "                                                 target_size = (64, 64),\n",
        "                                                 batch_size = batch_size,\n",
        "                                                 class_mode = 'categorical')\n",
        "\n",
        "validation_set = test_datagen.flow_from_directory('dataset/validation_set',\n",
        "                                            target_size = (64, 64),\n",
        "                                            batch_size = batch_size,\n",
        "                                            class_mode = 'categorical')\n",
        "\n",
        "print(training_set.class_indices)"
      ],
      "execution_count": 17,
      "outputs": [
        {
          "output_type": "stream",
          "text": [
            "Found 19306 images belonging to 3 classes.\n",
            "Found 600 images belonging to 3 classes.\n",
            "{'MIDDLE': 0, 'OLD': 1, 'YOUNG': 2}\n"
          ],
          "name": "stdout"
        }
      ]
    },
    {
      "cell_type": "markdown",
      "metadata": {
        "id": "zKMfIBRVkYDQ",
        "colab_type": "text"
      },
      "source": [
        "**Step 8 - Fitting the CNN to the images**\n",
        "\n",
        "***Explanation:***\n",
        "Epochs = 64 and steps_per_epoch=100 means ---we want to go over our training data 64 times and each time we will make gradient updates 100 times with different data.\n",
        "\n",
        "\n",
        "\n"
      ]
    },
    {
      "cell_type": "code",
      "metadata": {
        "id": "3FweHrxSVTam",
        "colab_type": "code",
        "outputId": "3952babe-e094-44f6-d4ff-0eb4bd587477",
        "colab": {
          "base_uri": "https://localhost:8080/",
          "height": 1108
        }
      },
      "source": [
        "history = classifier.fit_generator(training_set,\n",
        "                         steps_per_epoch = len(training_set),\n",
        "                         epochs = 20,\n",
        "                         validation_data = validation_set,\n",
        "                         validation_steps = len(validation_set))"
      ],
      "execution_count": 18,
      "outputs": [
        {
          "output_type": "stream",
          "text": [
            "WARNING:tensorflow:From /usr/local/lib/python3.6/dist-packages/tensorflow/python/ops/math_ops.py:3066: to_int32 (from tensorflow.python.ops.math_ops) is deprecated and will be removed in a future version.\n",
            "Instructions for updating:\n",
            "Use tf.cast instead.\n",
            "Epoch 1/20\n",
            "19/19 [==============================] - 1s 49ms/step - loss: 0.9959 - acc: 0.4800\n",
            "604/604 [==============================] - 56s 93ms/step - loss: 0.8567 - acc: 0.6014 - val_loss: 0.9959 - val_acc: 0.4800\n",
            "Epoch 2/20\n",
            "19/19 [==============================] - 1s 41ms/step - loss: 0.9830 - acc: 0.4483\n",
            "604/604 [==============================] - 53s 87ms/step - loss: 0.7647 - acc: 0.6695 - val_loss: 0.9830 - val_acc: 0.4483\n",
            "Epoch 3/20\n",
            "19/19 [==============================] - 1s 45ms/step - loss: 0.9215 - acc: 0.5217\n",
            "604/604 [==============================] - 52s 87ms/step - loss: 0.7273 - acc: 0.6862 - val_loss: 0.9215 - val_acc: 0.5217\n",
            "Epoch 4/20\n",
            "19/19 [==============================] - 1s 43ms/step - loss: 0.8542 - acc: 0.5250\n",
            "604/604 [==============================] - 52s 87ms/step - loss: 0.6981 - acc: 0.6992 - val_loss: 0.8542 - val_acc: 0.5250\n",
            "Epoch 5/20\n",
            "19/19 [==============================] - 1s 45ms/step - loss: 0.8846 - acc: 0.5083\n",
            "604/604 [==============================] - 52s 86ms/step - loss: 0.6774 - acc: 0.7066 - val_loss: 0.8846 - val_acc: 0.5083\n",
            "Epoch 6/20\n",
            "19/19 [==============================] - 1s 43ms/step - loss: 0.8079 - acc: 0.5700\n",
            "604/604 [==============================] - 52s 86ms/step - loss: 0.6584 - acc: 0.7144 - val_loss: 0.8079 - val_acc: 0.5700\n",
            "Epoch 7/20\n",
            "19/19 [==============================] - 1s 44ms/step - loss: 0.8030 - acc: 0.5633\n",
            "604/604 [==============================] - 52s 87ms/step - loss: 0.6392 - acc: 0.7213 - val_loss: 0.8030 - val_acc: 0.5633\n",
            "Epoch 8/20\n",
            "19/19 [==============================] - 1s 45ms/step - loss: 0.7792 - acc: 0.5700\n",
            "604/604 [==============================] - 53s 88ms/step - loss: 0.6277 - acc: 0.7304 - val_loss: 0.7792 - val_acc: 0.5700\n",
            "Epoch 9/20\n",
            "19/19 [==============================] - 1s 45ms/step - loss: 0.7246 - acc: 0.6383\n",
            "604/604 [==============================] - 53s 87ms/step - loss: 0.6225 - acc: 0.7328 - val_loss: 0.7246 - val_acc: 0.6383\n",
            "Epoch 10/20\n",
            "19/19 [==============================] - 1s 52ms/step - loss: 0.7351 - acc: 0.6233\n",
            "604/604 [==============================] - 53s 88ms/step - loss: 0.6136 - acc: 0.7377 - val_loss: 0.7351 - val_acc: 0.6233\n",
            "Epoch 11/20\n",
            "19/19 [==============================] - 1s 46ms/step - loss: 0.7397 - acc: 0.6250\n",
            "604/604 [==============================] - 53s 88ms/step - loss: 0.5947 - acc: 0.7445 - val_loss: 0.7397 - val_acc: 0.6250\n",
            "Epoch 12/20\n",
            "19/19 [==============================] - 1s 43ms/step - loss: 0.7555 - acc: 0.6033\n",
            "604/604 [==============================] - 53s 88ms/step - loss: 0.5896 - acc: 0.7452 - val_loss: 0.7555 - val_acc: 0.6033\n",
            "Epoch 13/20\n",
            "19/19 [==============================] - 1s 49ms/step - loss: 0.7414 - acc: 0.6383\n",
            "604/604 [==============================] - 53s 88ms/step - loss: 0.5764 - acc: 0.7553 - val_loss: 0.7414 - val_acc: 0.6383\n",
            "Epoch 14/20\n",
            "19/19 [==============================] - 1s 46ms/step - loss: 0.7299 - acc: 0.6267\n",
            "604/604 [==============================] - 53s 88ms/step - loss: 0.5732 - acc: 0.7563 - val_loss: 0.7299 - val_acc: 0.6267\n",
            "Epoch 15/20\n",
            "19/19 [==============================] - 1s 43ms/step - loss: 0.7199 - acc: 0.6167\n",
            "604/604 [==============================] - 52s 87ms/step - loss: 0.5643 - acc: 0.7601 - val_loss: 0.7199 - val_acc: 0.6167\n",
            "Epoch 16/20\n",
            "19/19 [==============================] - 1s 44ms/step - loss: 0.6819 - acc: 0.6700\n",
            "604/604 [==============================] - 53s 87ms/step - loss: 0.5563 - acc: 0.7664 - val_loss: 0.6819 - val_acc: 0.6700\n",
            "Epoch 17/20\n",
            "19/19 [==============================] - 1s 48ms/step - loss: 0.6679 - acc: 0.6967\n",
            "604/604 [==============================] - 53s 87ms/step - loss: 0.5533 - acc: 0.7659 - val_loss: 0.6679 - val_acc: 0.6967\n",
            "Epoch 18/20\n",
            "19/19 [==============================] - 1s 48ms/step - loss: 0.6886 - acc: 0.6750\n",
            "604/604 [==============================] - 53s 87ms/step - loss: 0.5408 - acc: 0.7719 - val_loss: 0.6886 - val_acc: 0.6750\n",
            "Epoch 19/20\n",
            "19/19 [==============================] - 1s 46ms/step - loss: 0.6637 - acc: 0.6767\n",
            "604/604 [==============================] - 53s 88ms/step - loss: 0.5318 - acc: 0.7765 - val_loss: 0.6637 - val_acc: 0.6767\n",
            "Epoch 20/20\n",
            "19/19 [==============================] - 1s 50ms/step - loss: 0.6475 - acc: 0.6850\n",
            "604/604 [==============================] - 53s 88ms/step - loss: 0.5277 - acc: 0.7778 - val_loss: 0.6475 - val_acc: 0.6850\n"
          ],
          "name": "stdout"
        }
      ]
    },
    {
      "cell_type": "markdown",
      "metadata": {
        "id": "7PoXtpfXLh4B",
        "colab_type": "text"
      },
      "source": [
        "**Visual display of accuaracy and loss of model**"
      ]
    },
    {
      "cell_type": "code",
      "metadata": {
        "id": "M7VVyx7TJ3CB",
        "colab_type": "code",
        "outputId": "9e2f0945-30be-4d49-b460-b309d092ad13",
        "colab": {
          "base_uri": "https://localhost:8080/",
          "height": 573
        }
      },
      "source": [
        "# summarize history for accuracy\n",
        "epoch = range(len(history.history['acc']))\n",
        "plt.plot(epoch,history.history['acc'],label=\"train accuracy\")\n",
        "plt.plot(epoch,history.history['val_acc'],label=\"test accuracy\")\n",
        "plt.title('model accuracy')\n",
        "plt.ylabel('accuracy')\n",
        "plt.xlabel('epoch')\n",
        "plt.legend(loc='upper left')\n",
        "plt.show()\n",
        "# summarize history for loss\n",
        "plt.plot(epoch,history.history['loss'],label=\"train loss\")\n",
        "plt.plot(epoch,history.history['val_loss'],label=\"test loss\" )\n",
        "plt.title('model loss')\n",
        "plt.ylabel('loss')\n",
        "plt.xlabel('epoch')\n",
        "plt.legend(loc='upper left')\n",
        "plt.show()"
      ],
      "execution_count": 21,
      "outputs": [
        {
          "output_type": "display_data",
          "data": {
            "image/png": "[encoded data removed]",
            "text/plain": [
              "<Figure size 432x288 with 1 Axes>"
            ]
          },
          "metadata": {
            "tags": []
          }
        },
        {
          "output_type": "display_data",
          "data": {
            "image/png": "[encoded data removed]",
            "text/plain": [
              "<Figure size 432x288 with 1 Axes>"
            ]
          },
          "metadata": {
            "tags": []
          }
        }
      ]
    },
    {
      "cell_type": "markdown",
      "metadata": {
        "id": "sZhlgyX6Lnlb",
        "colab_type": "text"
      },
      "source": [
        "  **Prediction on unknown image**"
      ]
    },
    {
      "cell_type": "code",
      "metadata": {
        "id": "bZXpwJHVOf3p",
        "colab_type": "code",
        "colab": {}
      },
      "source": [
        "image_list=[]\n",
        "\n",
        "image_names_test = os.listdir(\"dataset/Test\")\n",
        "\n",
        "for img in image_names_test:\n",
        "    img_load = image.load_img(\"dataset/Test/\" +img, target_size = (64, 64))\n",
        "    img_array = image.img_to_array(img_load)\n",
        "    image_list.append(img_array)\n",
        " \n",
        "\n",
        "test_image_array =  np.array(image_list)\n",
        "  \n"
      ],
      "execution_count": 0,
      "outputs": []
    },
    {
      "cell_type": "code",
      "metadata": {
        "id": "F4AIP-OKCXZw",
        "colab_type": "code",
        "colab": {}
      },
      "source": [
        "Predicted_list = classifier.predict_classes(test_image_array).tolist()\n",
        "\n",
        "def coversion(x):\n",
        "  if x==0:\n",
        "    return \"MIDDLE\"\n",
        "  elif x==1:\n",
        "    return \"OLD\"\n",
        "  else:\n",
        "    return \"YOUNG\"\n",
        "\n",
        "Predicted_list = list(map( lambda x: coversion(x),Predicted_list))  \n",
        "\n",
        "  "
      ],
      "execution_count": 0,
      "outputs": []
    },
    {
      "cell_type": "code",
      "metadata": {
        "id": "Ow_3x6-ZCjsg",
        "colab_type": "code",
        "colab": {}
      },
      "source": [
        "submission_df = pd.DataFrame({ \"ID\": image_names_test,\n",
        "                               \"Class\":Predicted_list\n",
        "      \n",
        "                             })\n",
        "submission_df.to_csv(\"output.csv\", index=False)"
      ],
      "execution_count": 0,
      "outputs": []
    },
    {
      "cell_type": "code",
      "metadata": {
        "id": "IQOQy0yGGzI0",
        "colab_type": "code",
        "colab": {}
      },
      "source": [
        ""
      ],
      "execution_count": 0,
      "outputs": []
    },
    {
      "cell_type": "code",
      "metadata": {
        "id": "Wk7nU53N47tE",
        "colab_type": "code",
        "outputId": "cfc7b31d-b962-408b-c8d0-0ea21fe72393",
        "colab": {
          "base_uri": "https://localhost:8080/",
          "height": 271
        }
      },
      "source": [
        "from IPython.display import Image,display,HTML\n",
        "\n",
        "display(HTML('<h1> Age is  ' +str(Predicted_list[10]) +  ' </h1>'))\n",
        "display(Image(filename=\"dataset/Test/\"+image_names_test[10],width=70, height=70))\n",
        "\n",
        "display(HTML('<h1> Age is  ' + str(Predicted_list[50]) +  ' </h1>'))\n",
        "display(Image(filename=\"dataset/Test/\"+image_names_test[50],width=70, height=70))\n",
        "\n",
        "\n"
      ],
      "execution_count": 55,
      "outputs": [
        {
          "output_type": "display_data",
          "data": {
            "text/html": [
              "<h1> Age is  YOUNG </h1>"
            ],
            "text/plain": [
              "<IPython.core.display.HTML object>"
            ]
          },
          "metadata": {
            "tags": []
          }
        },
        {
          "output_type": "display_data",
          "data": {
            "image/jpeg": "[encoded data removed]",
            "text/plain": [
              "<IPython.core.display.Image object>"
            ]
          },
          "metadata": {
            "tags": [],
            "image/jpeg": {
              "width": 70,
              "height": 70
            }
          }
        },
        {
          "output_type": "display_data",
          "data": {
            "text/html": [
              "<h1> Age is  MIDDLE </h1>"
            ],
            "text/plain": [
              "<IPython.core.display.HTML object>"
            ]
          },
          "metadata": {
            "tags": []
          }
        },
        {
          "output_type": "display_data",
          "data": {
            "image/jpeg": "[encoded data removed]",
            "text/plain": [
              "<IPython.core.display.Image object>"
            ]
          },
          "metadata": {
            "tags": [],
            "image/jpeg": {
              "width": 70,
              "height": 70
            }
          }
        }
      ]
    }
  ]
}